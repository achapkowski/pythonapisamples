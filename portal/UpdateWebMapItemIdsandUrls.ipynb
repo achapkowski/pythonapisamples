{
 "cells": [
  {
   "cell_type": "markdown",
   "metadata": {},
   "source": [
    "# A DevSummit Question Answered!\n",
    "\n",
    "## Question: I need to update my Web Map's URLs and ItemIds, how do I do this?\n",
    "\n",
    "This is probably my number one question.  We introduced the clone_items method at **v1.4** which can handle the transfer of Web Maps and related services.  So that is an easy way of migrating content, but let's say you need to programmatically update content because a local Item ID has changed or the URL you were using, maybe from a 3rd party, has been updated to something else.  Here is a code sample below."
   ]
  },
  {
   "cell_type": "code",
   "execution_count": 3,
   "metadata": {},
   "outputs": [],
   "source": [
    "import json\n",
    "from arcgis.gis import Item\n",
    "\n",
    "def update_webmaps(gis, id_mappings, items=None, org=False):\n",
    "    \"\"\"\n",
    "    Allows for the find/replace of item ids and urls in a webmap service.\n",
    "\n",
    "    This method allows for the quick updating a collection of WebMap Items.\n",
    "\n",
    "    =====================     ====================================================================\n",
    "    **Argument**              **Description**\n",
    "    ---------------------     --------------------------------------------------------------------\n",
    "    id_mappings               Required dictionary.  A mapping set of the old value to the new value.\n",
    "\n",
    "                              Example:\n",
    "\n",
    "                              {\n",
    "                                  'abcd123456' : 'efgh7890123',\n",
    "                                  'http://myoldservice.esri.com/spam', 'http://mynewservice.esri.com/eggs'\n",
    "                              }\n",
    "    ---------------------     --------------------------------------------------------------------\n",
    "    items                     Optional list. List of web map items to update. If no item list if\n",
    "                              provided, the current user item's will be search and update all WebMap\n",
    "                              Items.\n",
    "    ---------------------     --------------------------------------------------------------------\n",
    "    org                       optional boolean.  If True, all WebMap will be updated.  If False,\n",
    "                              webmap the current user owns will be updated. This parameter is only\n",
    "                              valid if the items parameter is None.\n",
    "    =====================     ====================================================================\n",
    "\n",
    "    :returns: boolean\n",
    "\n",
    "    .. note::\n",
    "    On failure of an item, the value will be False, and the items that could not be updated will be returned.\n",
    "\n",
    "    \"\"\"\n",
    "    \n",
    "    cm = gis.content\n",
    "    if items is None and org == False:\n",
    "        items = cm.search(\n",
    "            query=\"owner: %s\" % dict(gis.properties['user'])['username'],\n",
    "            item_type=\"Web Map\",\n",
    "            max_items=10000)\n",
    "    elif org == True and items is None:\n",
    "        items = cm.search(query=\"*\",\n",
    "                            item_type=\"Web Map\",\n",
    "                            max_items=10000)\n",
    "    results = {'success': True, 'notUpdated' : [] }\n",
    "    for idx, item in enumerate(items):\n",
    "        if isinstance(item, str):\n",
    "            item = cm.get(item)\n",
    "        if isinstance(item, Item) and \\\n",
    "           item.type == 'Web Map':\n",
    "            data = json.dumps(item.get_data())\n",
    "            for k,v in id_mappings.items():\n",
    "                data = data.replace(k,v)\n",
    "            res = item.update(data=data)\n",
    "            if res == False:\n",
    "                results['notUpdated'].append(item)\n",
    "        else:\n",
    "            results['notUpdated'].append(item)\n",
    "        del idx, item\n",
    "    return results"
   ]
  },
  {
   "cell_type": "markdown",
   "metadata": {},
   "source": [
    "The result of all of this code is a simple find/replace script to update 1:M items/URLs.  The return value is a dictionary, where the `success` key lets users know if the value encountered an error, and the `notUpdated` key is the items that could not be updated. \n",
    "\n",
    "This pattern follows most of the REST responses from Portal when an update operation is called.\n",
    "\n",
    "### Usage Example:\n",
    "\n",
    "Replace a URL and Item ID in all local Web Maps."
   ]
  },
  {
   "cell_type": "code",
   "execution_count": 4,
   "metadata": {},
   "outputs": [
    {
     "name": "stdout",
     "output_type": "stream",
     "text": [
      "{'success': True, 'notUpdated': []}\n"
     ]
    }
   ],
   "source": [
    "from arcgis.gis import GIS\n",
    "gis = GIS(url=\"https://mysite.supercool.com/portal\", username=\"*****\", password='****************')\n",
    "print(update_webmaps(gis=gis, id_mappings={'39e499c73d8c418c9b049463cf572327' : '7711af7cc8ad4644ba5d997df4c87e18'}))"
   ]
  },
  {
   "cell_type": "markdown",
   "metadata": {},
   "source": [
    "You can now verify that the ids where updated."
   ]
  },
  {
   "cell_type": "code",
   "execution_count": 5,
   "metadata": {},
   "outputs": [
    {
     "name": "stdout",
     "output_type": "stream",
     "text": [
      "True\n"
     ]
    }
   ],
   "source": [
    "items = gis.content.search(query=\"owner: %s\" % dict(gis.properties['user'])['username'],\n",
    "                  item_type=\"Web Map\",\n",
    "                  max_items=10000)\n",
    "for item in items: # Verify all the WebMaps have been updated.\n",
    "    print(all([(layer['itemId'] == '39e499c73d8c418c9b049463cf572327') == False \\\n",
    "           for layer in item.get_data()['operationalLayers']]))"
   ]
  }
 ],
 "metadata": {
  "kernelspec": {
   "display_name": "Python 3",
   "language": "python",
   "name": "python3"
  },
  "language_info": {
   "codemirror_mode": {
    "name": "ipython",
    "version": 3
   },
   "file_extension": ".py",
   "mimetype": "text/x-python",
   "name": "python",
   "nbconvert_exporter": "python",
   "pygments_lexer": "ipython3",
   "version": "3.5.3"
  }
 },
 "nbformat": 4,
 "nbformat_minor": 2
}
