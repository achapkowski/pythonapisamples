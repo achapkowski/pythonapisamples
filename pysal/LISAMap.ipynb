{
 "cells": [
  {
   "cell_type": "markdown",
   "metadata": {},
   "source": [
    "# Creating Cluster Maps\n",
    "\n",
    "Local indicators of spatial association (LISAs) or hot spot maps is a common task used to explore spatial heterogeneity and locate areas of similar or dissimilar values.\n",
    "\n",
    "In this notebook, it will be shown how to leverage PySAL and the Python API's Spatial Dataframe to visualize and calculate custom LISA cluster maps.\n",
    "\n",
    "### Tutorial - Hotspots on Homicade Rates in 1990\n",
    "\n",
    "**1).** Load the libraries and setup the notebook."
   ]
  },
  {
   "cell_type": "code",
   "execution_count": 67,
   "metadata": {
    "collapsed": true
   },
   "outputs": [],
   "source": [
    "%matplotlib inline"
   ]
  },
  {
   "cell_type": "code",
   "execution_count": 68,
   "metadata": {
    "collapsed": true
   },
   "outputs": [],
   "source": [
    "from arcgis.gis import GIS\n",
    "from arcgis.features import SpatialDataFrame\n",
    "from arcgis.features import FeatureCollection\n",
    "import numpy as np\n",
    "import pysal as ps\n",
    "import pandas as pd"
   ]
  },
  {
   "cell_type": "markdown",
   "metadata": {},
   "source": [
    "**2).** PySAL has lots of built in datasets, the tutorial will leverage the 'NAT.shp' dataset.  \n",
    "\n",
    "- Get the path to the dataset\n",
    "- Display the dataset"
   ]
  },
  {
   "cell_type": "code",
   "execution_count": 69,
   "metadata": {
    "collapsed": false
   },
   "outputs": [],
   "source": [
    "fc = ps.examples.get_path('NAT.shp')"
   ]
  },
  {
   "cell_type": "code",
   "execution_count": 70,
   "metadata": {
    "collapsed": false
   },
   "outputs": [],
   "source": [
    "from arcgis.features import FeatureSet\n",
    "sdf = SpatialDataFrame.from_featureclass(fc)\n",
    "fs = FeatureSet.from_dict(sdf.__feature_set__)\n",
    "collection = FeatureCollection.from_featureset(fs)"
   ]
  },
  {
   "cell_type": "code",
   "execution_count": 71,
   "metadata": {
    "collapsed": true
   },
   "outputs": [],
   "source": [
    "gis = GIS()\n",
    "m = gis.map('United States')"
   ]
  },
  {
   "cell_type": "code",
   "execution_count": 72,
   "metadata": {
    "collapsed": true
   },
   "outputs": [],
   "source": [
    "m"
   ]
  },
  {
   "cell_type": "code",
   "execution_count": 73,
   "metadata": {
    "collapsed": false
   },
   "outputs": [],
   "source": [
    "m.add_layer(collection)"
   ]
  },
  {
   "cell_type": "markdown",
   "metadata": {
    "collapsed": true
   },
   "source": [
    "**3).** Perform the LISA using PySAL\n"
   ]
  },
  {
   "cell_type": "code",
   "execution_count": 74,
   "metadata": {
    "collapsed": true
   },
   "outputs": [],
   "source": [
    "w = ps.weights.Queen.from_dataframe(sdf, geom_col='SHAPE')\n",
    "hr90 = sdf['HR90']\n",
    "lisa = ps.Moran_Local(hr90, w, permutations=9999)"
   ]
  },
  {
   "cell_type": "markdown",
   "metadata": {},
   "source": [
    "**4).** Make some nice labels from the results and add it to the Spatial DataFrame "
   ]
  },
  {
   "cell_type": "code",
   "execution_count": 75,
   "metadata": {
    "collapsed": false
   },
   "outputs": [],
   "source": [
    "lisa_lbls = {1: 'HH', \n",
    "             2: 'LH', \n",
    "             3: 'LL', \n",
    "             4: 'HL', \n",
    "             0: 'Non-significant'}\n",
    "sign = lisa.p_sim < 0.05\n",
    "quadS = lisa.q * sign\n",
    "labels = pd.Series(quadS).map(lisa_lbls).values\n",
    "sdf['LISALABELS'] = labels\n",
    "sdf['LISAVALUES'] = pd.Series(quadS).values"
   ]
  },
  {
   "cell_type": "markdown",
   "metadata": {},
   "source": [
    "### Examine the Results\n",
    "\n",
    "As expected, most locations have no significant clustering, but we do have (dis)similarity within the dataset. "
   ]
  },
  {
   "cell_type": "code",
   "execution_count": 76,
   "metadata": {
    "collapsed": false
   },
   "outputs": [
    {
     "data": {
      "text/plain": [
       "<matplotlib.axes._subplots.AxesSubplot at 0x18605049ac8>"
      ]
     },
     "execution_count": 76,
     "metadata": {},
     "output_type": "execute_result"
    },
    {
     "data": {
      "image/png": "[encoded data removed]",
      "text/plain": [
       "<matplotlib.figure.Figure at 0x18671dd2160>"
      ]
     },
     "metadata": {},
     "output_type": "display_data"
    }
   ],
   "source": [
    "sdf.LISALABELS.value_counts().plot('bar')"
   ]
  },
  {
   "cell_type": "markdown",
   "metadata": {
    "collapsed": true
   },
   "source": [
    "**5). ** Showing the Results\n",
    "\n",
    "Once the Spatial DataFrame is updated, it can be saved or displayed on a map. "
   ]
  },
  {
   "cell_type": "code",
   "execution_count": 77,
   "metadata": {
    "collapsed": false
   },
   "outputs": [
    {
     "data": {
      "text/html": [
       "<div class=\"item_container\" style=\"height: auto; overflow: hidden; border: 1px solid #cfcfcf; border-radius: 2px; background: #f6fafa; line-height: 1.21429em; padding: 10px;\">\n",
       "                    <div class=\"item_left\" style=\"width: 210px; float: left;\">\n",
       "                       <a href='https://www.arcgis.com/home/item.html?id=192a1923c2274af890645c5465184d35' target='_blank'>\n",
       "                        <img src='https://www.arcgis.com/sharing/rest//content/items/192a1923c2274af890645c5465184d35/info/thumbnail/ago_downloaded.png' class=\"itemThumbnail\">\n",
       "                       </a>\n",
       "                    </div>\n",
       "\n",
       "                    <div class=\"item_right\"     style=\"float: none; width: auto; overflow: hidden;\">\n",
       "                        <a href='https://www.arcgis.com/home/item.html?id=192a1923c2274af890645c5465184d35' target='_blank'><b>1990 Homicide Map (Creating Using Python API)</b>\n",
       "                        </a>\n",
       "                        <br/>TutorialMap<img src='https://www.arcgis.com/home/js/jsapi/esri/css/images/item_type_icons/maps16.png' style=\"vertical-align:middle;\">Web Map by AndrewSolutions\n",
       "                        <br/>Last Modified: January 03, 2018\n",
       "                        <br/>0 comments, 0 views\n",
       "                    </div>\n",
       "                </div>\n",
       "                "
      ],
      "text/plain": [
       "<Item title:\"1990 Homicide Map (Creating Using Python API)\" type:Web Map owner:AndrewSolutions>"
      ]
     },
     "execution_count": 77,
     "metadata": {},
     "output_type": "execute_result"
    }
   ],
   "source": [
    "item = gis.content.search(\"id: 192a1923c2274af890645c5465184d35\")[0]\n",
    "item"
   ]
  },
  {
   "cell_type": "code",
   "execution_count": 78,
   "metadata": {
    "collapsed": true
   },
   "outputs": [],
   "source": [
    "m = gis.map(item)\n",
    "m"
   ]
  },
  {
   "cell_type": "markdown",
   "metadata": {},
   "source": [
    "## Conclusion\n",
    "\n",
    "We have show using some basic analysis the power of 3rd party statistical packages and visualizing the results to get a good understanding and feel of data."
   ]
  }
 ],
 "metadata": {
  "kernelspec": {
   "display_name": "Python 3",
   "language": "python",
   "name": "python3"
  },
  "language_info": {
   "codemirror_mode": {
    "name": "ipython",
    "version": 3
   },
   "file_extension": ".py",
   "mimetype": "text/x-python",
   "name": "python",
   "nbconvert_exporter": "python",
   "pygments_lexer": "ipython3",
   "version": "3.5.4"
  },
  "widgets": {
   "state": {
    "6e388060f1d3487fb496555baf6aa824": {
     "views": [
      {
       "cell_index": 7
      }
     ]
    },
    "74ec5064b4494b8088089670468b74d2": {
     "views": [
      {
       "cell_index": 17
      }
     ]
    }
   },
   "version": "1.2.0"
  }
 },
 "nbformat": 4,
 "nbformat_minor": 2
}
