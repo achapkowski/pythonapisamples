{
 "cells": [
  {
   "cell_type": "code",
   "execution_count": 1,
   "metadata": {
    "collapsed": true
   },
   "outputs": [],
   "source": [
    "from arcgis.gis import GIS"
   ]
  },
  {
   "cell_type": "markdown",
   "metadata": {},
   "source": [
    "# Working with Content\n",
    "\n",
    "A large part of arcgis package is working with one's content.  The arcgis package allows users to access data through searching or by providing the Item Id directly.\n",
    "\n",
    "## Searching for Content\n",
    "\n",
    "Accessing the content property of your gis object returns you an instance of ContentManager class. You can use the  search() method of the ContentManager object to search for items on your GIS. You can use the search() even if you are connected as an anonymous user, in which case you get to search for public content on ArcGIS Online.\n",
    "\n",
    "\n"
   ]
  },
  {
   "cell_type": "code",
   "execution_count": 2,
   "metadata": {
    "collapsed": true
   },
   "outputs": [],
   "source": [
    "gis = GIS()\n",
    "content = gis.content"
   ]
  },
  {
   "cell_type": "markdown",
   "metadata": {},
   "source": [
    "The content property is a ContentManager object that allows you to ```search``` for items as well as other functions such as add, clone_item, create folders or services, and much more.  \n",
    "\n",
    "You can explore further help by putting a **?** after an object to bring up it's docstring help: ```content?```. Two **?** like this: ```content??``` will allow for the viewing of the object's source code."
   ]
  },
  {
   "cell_type": "code",
   "execution_count": 15,
   "metadata": {},
   "outputs": [
    {
     "data": {
      "text/html": [
       "<div class=\"item_container\" style=\"height: auto; overflow: hidden; border: 1px solid #cfcfcf; border-radius: 2px; background: #f6fafa; line-height: 1.21429em; padding: 10px;\">\n",
       "                    <div class=\"item_left\" style=\"width: 210px; float: left;\">\n",
       "                       <a href='https://www.arcgis.com/home/item.html?id=826498a48bd0424f9c9315214f2165d4' target='_blank'>\n",
       "                        <img src='https://www.arcgis.com/sharing/rest//content/items/826498a48bd0424f9c9315214f2165d4/info/thumbnail/ColoredPencil1.jpg' class=\"itemThumbnail\">\n",
       "                       </a>\n",
       "                    </div>\n",
       "\n",
       "                    <div class=\"item_right\"     style=\"float: none; width: auto; overflow: hidden;\">\n",
       "                        <a href='https://www.arcgis.com/home/item.html?id=826498a48bd0424f9c9315214f2165d4' target='_blank'><b>Colored Pencil Map</b>\n",
       "                        </a>\n",
       "                        <br/>This vector web map provides a detailed basemap for the world featuring a hand-drawn look like it was created using colored pencils.<img src='https://www.arcgis.com/home/js/jsapi/esri/css/images/item_type_icons/maps16.png' style=\"vertical-align:middle;\">Web Map by esri\n",
       "                        <br/>Last Modified: January 05, 2018\n",
       "                        <br/>0 comments, 13,704 views\n",
       "                    </div>\n",
       "                </div>\n",
       "                "
      ],
      "text/plain": [
       "<Item title:\"Colored Pencil Map\" type:Web Map owner:esri>"
      ]
     },
     "metadata": {},
     "output_type": "display_data"
    },
    {
     "data": {
      "text/html": [
       "<div class=\"item_container\" style=\"height: auto; overflow: hidden; border: 1px solid #cfcfcf; border-radius: 2px; background: #f6fafa; line-height: 1.21429em; padding: 10px;\">\n",
       "                    <div class=\"item_left\" style=\"width: 210px; float: left;\">\n",
       "                       <a href='https://www.arcgis.com/home/item.html?id=5ae9e138a17842688b0b79283a4353f6' target='_blank'>\n",
       "                        <img src='https://www.arcgis.com/sharing/rest//content/items/5ae9e138a17842688b0b79283a4353f6/info/thumbnail/oceans_5_0_gulf.jpg' class=\"itemThumbnail\">\n",
       "                       </a>\n",
       "                    </div>\n",
       "\n",
       "                    <div class=\"item_right\"     style=\"float: none; width: auto; overflow: hidden;\">\n",
       "                        <a href='https://www.arcgis.com/home/item.html?id=5ae9e138a17842688b0b79283a4353f6' target='_blank'><b>Ocean Basemap</b>\n",
       "                        </a>\n",
       "                        <br/>The Ocean Basemap includes bathymetry, surface and subsurface feature names, and derived depths.  This map is designed to be used as a basemap by marine GIS professionals and as a reference map by anyone interested in ocean data.<img src='https://www.arcgis.com/home/js/jsapi/esri/css/images/item_type_icons/maps16.png' style=\"vertical-align:middle;\">Web Map by esri\n",
       "                        <br/>Last Modified: December 08, 2016\n",
       "                        <br/>8 comments, 346,006 views\n",
       "                    </div>\n",
       "                </div>\n",
       "                "
      ],
      "text/plain": [
       "<Item title:\"Ocean Basemap\" type:Web Map owner:esri>"
      ]
     },
     "metadata": {},
     "output_type": "display_data"
    },
    {
     "data": {
      "text/html": [
       "<div class=\"item_container\" style=\"height: auto; overflow: hidden; border: 1px solid #cfcfcf; border-radius: 2px; background: #f6fafa; line-height: 1.21429em; padding: 10px;\">\n",
       "                    <div class=\"item_left\" style=\"width: 210px; float: left;\">\n",
       "                       <a href='https://www.arcgis.com/home/item.html?id=7e2b9be8a9c94e45b7f87857d8d168d6' target='_blank'>\n",
       "                        <img src='https://www.arcgis.com/sharing/rest//content/items/7e2b9be8a9c94e45b7f87857d8d168d6/info/thumbnail/streets_night_map.jpg' class=\"itemThumbnail\">\n",
       "                       </a>\n",
       "                    </div>\n",
       "\n",
       "                    <div class=\"item_right\"     style=\"float: none; width: auto; overflow: hidden;\">\n",
       "                        <a href='https://www.arcgis.com/home/item.html?id=7e2b9be8a9c94e45b7f87857d8d168d6' target='_blank'><b>Streets (Night)</b>\n",
       "                        </a>\n",
       "                        <br/>This web map provides a detailed vector basemap for the world featuring a custom \"night time\" street map style. <img src='https://www.arcgis.com/home/js/jsapi/esri/css/images/item_type_icons/maps16.png' style=\"vertical-align:middle;\">Web Map by esri\n",
       "                        <br/>Last Modified: January 05, 2018\n",
       "                        <br/>3 comments, 75,236 views\n",
       "                    </div>\n",
       "                </div>\n",
       "                "
      ],
      "text/plain": [
       "<Item title:\"Streets (Night)\" type:Web Map owner:esri>"
      ]
     },
     "metadata": {},
     "output_type": "display_data"
    }
   ],
   "source": [
    "from IPython.display import display\n",
    "search_result = content.search(query=\"owner: esri\")[:3]\n",
    "for item in search_result:\n",
    "    display(item)"
   ]
  },
  {
   "cell_type": "markdown",
   "metadata": {},
   "source": [
    "## Searching for Item Types\n",
    "\n",
    "Besides searching just using ```query``` strings, the item types can be provided.  This allows"
   ]
  },
  {
   "cell_type": "code",
   "execution_count": 17,
   "metadata": {},
   "outputs": [
    {
     "data": {
      "text/html": [
       "<div class=\"item_container\" style=\"height: auto; overflow: hidden; border: 1px solid #cfcfcf; border-radius: 2px; background: #f6fafa; line-height: 1.21429em; padding: 10px;\">\n",
       "                    <div class=\"item_left\" style=\"width: 210px; float: left;\">\n",
       "                       <a href='https://www.arcgis.com/home/item.html?id=21667a1e46f04d8ca13afc17e17a16eb' target='_blank'>\n",
       "                        <img src='https://www.arcgis.com/sharing/rest//content/items/21667a1e46f04d8ca13afc17e17a16eb/info/thumbnail/ago_downloaded.png' class=\"itemThumbnail\">\n",
       "                       </a>\n",
       "                    </div>\n",
       "\n",
       "                    <div class=\"item_right\"     style=\"float: none; width: auto; overflow: hidden;\">\n",
       "                        <a href='https://www.arcgis.com/home/item.html?id=21667a1e46f04d8ca13afc17e17a16eb' target='_blank'><b>BigEarthquakes_March2016</b>\n",
       "                        </a>\n",
       "                        <br/><img src='https://www.arcgis.com/home/js/jsapi/esri/css/images/item_type_icons/layers16.png' style=\"vertical-align:middle;\">CSV by Ontario_Admin\n",
       "                        <br/>Last Modified: March 30, 2016\n",
       "                        <br/>0 comments, 39 views\n",
       "                    </div>\n",
       "                </div>\n",
       "                "
      ],
      "text/plain": [
       "<Item title:\"BigEarthquakes_March2016\" type:CSV owner:Ontario_Admin>"
      ]
     },
     "metadata": {},
     "output_type": "display_data"
    },
    {
     "data": {
      "text/html": [
       "<div class=\"item_container\" style=\"height: auto; overflow: hidden; border: 1px solid #cfcfcf; border-radius: 2px; background: #f6fafa; line-height: 1.21429em; padding: 10px;\">\n",
       "                    <div class=\"item_left\" style=\"width: 210px; float: left;\">\n",
       "                       <a href='https://www.arcgis.com/home/item.html?id=d147f89956ac4a1099dd9965d2951170' target='_blank'>\n",
       "                        <img src='https://www.arcgis.com/sharing/rest//content/items/d147f89956ac4a1099dd9965d2951170/info/thumbnail/ago_downloaded.png' class=\"itemThumbnail\">\n",
       "                       </a>\n",
       "                    </div>\n",
       "\n",
       "                    <div class=\"item_right\"     style=\"float: none; width: auto; overflow: hidden;\">\n",
       "                        <a href='https://www.arcgis.com/home/item.html?id=d147f89956ac4a1099dd9965d2951170' target='_blank'><b>May_June_2017_Earthquakes_2_5_and_Above</b>\n",
       "                        </a>\n",
       "                        <br/><img src='https://www.arcgis.com/home/js/jsapi/esri/css/images/item_type_icons/layers16.png' style=\"vertical-align:middle;\">CSV by jjkerski\n",
       "                        <br/>Last Modified: June 14, 2017\n",
       "                        <br/>0 comments, 3 views\n",
       "                    </div>\n",
       "                </div>\n",
       "                "
      ],
      "text/plain": [
       "<Item title:\"May_June_2017_Earthquakes_2_5_and_Above\" type:CSV owner:jjkerski>"
      ]
     },
     "metadata": {},
     "output_type": "display_data"
    },
    {
     "data": {
      "text/html": [
       "<div class=\"item_container\" style=\"height: auto; overflow: hidden; border: 1px solid #cfcfcf; border-radius: 2px; background: #f6fafa; line-height: 1.21429em; padding: 10px;\">\n",
       "                    <div class=\"item_left\" style=\"width: 210px; float: left;\">\n",
       "                       <a href='https://www.arcgis.com/home/item.html?id=ed9b05dd16f148aeb275c592104cd58c' target='_blank'>\n",
       "                        <img src='https://www.arcgis.com/sharing/rest//content/items/ed9b05dd16f148aeb275c592104cd58c/info/thumbnail/ago_downloaded.png' class=\"itemThumbnail\">\n",
       "                       </a>\n",
       "                    </div>\n",
       "\n",
       "                    <div class=\"item_right\"     style=\"float: none; width: auto; overflow: hidden;\">\n",
       "                        <a href='https://www.arcgis.com/home/item.html?id=ed9b05dd16f148aeb275c592104cd58c' target='_blank'><b>Earthquake Data</b>\n",
       "                        </a>\n",
       "                        <br/><img src='https://www.arcgis.com/home/js/jsapi/esri/css/images/item_type_icons/layers16.png' style=\"vertical-align:middle;\">CSV by luis_gutierrezsalina@redlands.edu_univredlands\n",
       "                        <br/>Last Modified: August 04, 2017\n",
       "                        <br/>0 comments, 2 views\n",
       "                    </div>\n",
       "                </div>\n",
       "                "
      ],
      "text/plain": [
       "<Item title:\"Earthquake Data\" type:CSV owner:luis_gutierrezsalina@redlands.edu_univredlands>"
      ]
     },
     "metadata": {},
     "output_type": "display_data"
    }
   ],
   "source": [
    "search_result = content.search(query='earthquake', item_type=\"csv\")[:3]\n",
    "for item in search_result:\n",
    "    display(item)"
   ]
  },
  {
   "cell_type": "markdown",
   "metadata": {},
   "source": [
    "## Putting it together\n",
    "\n",
    "What happened above is that we moved beyond using simple keyword searching and filtered data further down into more refined searching.  The *earthquake* search did not just return all features containing earthquakes in item's properties, it also said only give me the data that is of type CSV.  This means ```search``` can parse down results to find exactly what you need, and ensure it is in the proper data type that you need.\n",
    "\n",
    "For both ArcGIS Online and Portal, you can fine more information under **Advanced Search** here: https://doc.arcgis.com/en/arcgis-online/reference/search.htm\n",
    "\n",
    "## Search Parameters\n",
    "\n",
    "The search function is powerful and a great tool to use to look for data.  Below is a full list of all the accepted parameters and a simple description of each. Couple this parameters with the **Advanced Search** topic from above and you will find what you need with not problems."
   ]
  },
  {
   "cell_type": "markdown",
   "metadata": {},
   "source": [
    "\n",
    "\n",
    "\n",
    "|**Argument**      |**Description**|\n",
    "|------------------|--------------------------------------------------------------------------|\n",
    "|query             |Required string. A query string.  See notes above.|\n",
    "|item_type         |Optional string. Set type of item to search.http://resources.arcgis.com/en/help/arcgis-rest-api/index.html#//02r3000000ms000000|\n",
    "|sort_field        |Optional string. Valid values can be title, uploaded, type, owner, modified, avgRating, numRatings, numComments, and numViews.|\n",
    "|sort_order        |Optional string. Valid values are asc or desc.|\n",
    "|max_items         |Optional integer. Maximum number of items returned, default is 10.|\n",
    "|outside_org       |Optional boolean. Controls whether to search outside your org (default is False, do not search ourside your org).|\n",
    "|categories        |Optional string or list. A string of category values.|"
   ]
  },
  {
   "cell_type": "markdown",
   "metadata": {},
   "source": [
    "## Summary\n",
    "\n",
    "Searching is an important part of managing and finding information inside your GIS. Without knowing how to find content you cannot begin to understand how to manage and use the full power of any GIS system.\n",
    "\n",
    "### Additional Resources:\n",
    "\n",
    "- https://developers.arcgis.com/python\n"
   ]
  }
 ],
 "metadata": {
  "kernelspec": {
   "display_name": "Python 3",
   "language": "python",
   "name": "python3"
  },
  "language_info": {
   "codemirror_mode": {
    "name": "ipython",
    "version": 3
   },
   "file_extension": ".py",
   "mimetype": "text/x-python",
   "name": "python",
   "nbconvert_exporter": "python",
   "pygments_lexer": "ipython3",
   "version": "3.6.2"
  }
 },
 "nbformat": 4,
 "nbformat_minor": 2
}
