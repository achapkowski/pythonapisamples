{
 "cells": [
  {
   "cell_type": "markdown",
   "metadata": {},
   "source": [
    "# Getting Started\n",
    "\n",
    "The ArcGIS API for Python is a powerful Python package that can be used to manage, control and explore spatial data.  It combines the best of data science with the power to manage your GIS infrastructure.  The package is lightweight and nimble and allows users from all levels of GIS backgrounds to quickly map information, manage GIS infrastructure (servers, portals, etc.) and start understanding quickly.\n",
    "\n",
    "### Accessing the Package\n",
    "\n",
    "I am going to assume the packagae has been installed.  If you need help doing that step, please refer to https://developers.arcgis.com/python/guide/install-and-set-up/\n",
    "\n",
    "In Python, librraries are loaded/accessed using the *import* statement as such:"
   ]
  },
  {
   "cell_type": "code",
   "execution_count": 1,
   "metadata": {},
   "outputs": [],
   "source": [
    "import arcgis"
   ]
  },
  {
   "cell_type": "markdown",
   "metadata": {},
   "source": [
    "Python also allows developers to access a part or parts of a library to let users only load what they need.  This is done using the **from < x > import < y >**"
   ]
  },
  {
   "cell_type": "code",
   "execution_count": 2,
   "metadata": {},
   "outputs": [],
   "source": [
    "from arcgis.gis import GIS"
   ]
  },
  {
   "cell_type": "markdown",
   "metadata": {},
   "source": [
    "Here we just loaded the **GIS** class from the arcgis.gis module.\n",
    "\n",
    "Now that we have what we need to login to our GIS, we can login or access a site anonymously. \n",
    "\n",
    "The first example is showing how to login to Portal for ArcGIS (this code won't work unless you replace the values):"
   ]
  },
  {
   "cell_type": "code",
   "execution_count": null,
   "metadata": {},
   "outputs": [],
   "source": [
    "gis = GIS(url=\"http://mysite.com/portal\", username=\"useraccount\", password=\"secret\")"
   ]
  },
  {
   "cell_type": "markdown",
   "metadata": {},
   "source": [
    "To access ArcGIS Online, you do not have to provide a url because it it the default site.  Here you can specify the username and password for a non-anonymous connection, else you can just provide credentials to login to your organization."
   ]
  },
  {
   "cell_type": "code",
   "execution_count": 3,
   "metadata": {},
   "outputs": [],
   "source": [
    "gis = GIS()"
   ]
  },
  {
   "cell_type": "code",
   "execution_count": null,
   "metadata": {},
   "outputs": [],
   "source": [
    "gis = GIS(username='myaccount', password='fake password')"
   ]
  },
  {
   "cell_type": "markdown",
   "metadata": {},
   "source": [
    "# Conclusion\n",
    "\n",
    "This was a gentle introduction to accessing your site.  For further information you can check out https://developers.arcgis.com/pthon for helpful user guides and examples.\n"
   ]
  }
 ],
 "metadata": {
  "kernelspec": {
   "display_name": "Python 3",
   "language": "python",
   "name": "python3"
  },
  "language_info": {
   "codemirror_mode": {
    "name": "ipython",
    "version": 3
   },
   "file_extension": ".py",
   "mimetype": "text/x-python",
   "name": "python",
   "nbconvert_exporter": "python",
   "pygments_lexer": "ipython3",
   "version": "3.5.4"
  }
 },
 "nbformat": 4,
 "nbformat_minor": 2
}
